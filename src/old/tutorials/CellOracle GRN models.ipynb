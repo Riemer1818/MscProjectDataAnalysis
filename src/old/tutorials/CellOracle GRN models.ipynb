{
 "cells": [
  {
   "cell_type": "code",
   "execution_count": 1,
   "metadata": {},
   "outputs": [
    {
     "name": "stderr",
     "output_type": "stream",
     "text": [
      "which: no R in (/home/msai/riemerpi001/.conda/envs/my_cell_env/bin:/cm/local/apps/environment-modules/4.5.3/bin:/home/msai/riemerpi001/.vscode-server/cli/servers/Stable-e170252f762678dec6ca2cc69aba1570769a5d39/server/bin/remote-cli:/cm/local/apps/environment-modules/4.5.3/bin:/home/msai/riemerpi001/.conda/envs/my_cell_env/bin:/apps/anaconda3/condabin:/cm/local/apps/gcc/11.2.0/bin:/home/msai/riemerpi001/.local/bin:/home/msai/riemerpi001/bin:/cm/local/apps/environment-modules/4.5.3/bin:/usr/local/bin:/usr/bin:/usr/local/sbin:/usr/sbin:/home/msai/riemerpi001/bin:/usr/bin:/usr/sbin:/cm/shared/apps/slurm/current/sbin:/tc2share/tc-scripts:/usr/share/centrifydc/bin:.:/sbin:/usr/sbin:/cm/local/apps/environment-modules/4.5.3/bin:/opt/dell/srvadmin/bin:/home/msai/riemerpi001/bin:/usr/bin:/usr/sbin:/cm/shared/apps/slurm/current/sbin:/tc2share/tc-scripts:/usr/share/centrifydc/bin:.)\n",
      "2024-05-08 11:43:52,289 - INFO - Creating new config.\n",
      "2024-05-08 11:43:52,292 - INFO - Using included version of AMD.\n",
      "2024-05-08 11:43:52,293 - INFO - Using included version of BioProspector.\n",
      "2024-05-08 11:43:52,294 - INFO - Using included version of ChIPMunk.\n",
      "2024-05-08 11:43:52,296 - WARNING - DiNAMO not found. To include it you will have to install it.\n",
      "2024-05-08 11:43:52,297 - WARNING - DREME not found. To include it you will have to install it.\n",
      "2024-05-08 11:43:52,299 - WARNING - GADEM not found. To include it you will have to install it.\n",
      "2024-05-08 11:43:52,299 - INFO - Using included version of HMS.\n",
      "2024-05-08 11:43:52,301 - WARNING - Homer not found. To include it you will have to install it.\n",
      "2024-05-08 11:43:52,301 - INFO - Using included version of Improbizer.\n",
      "2024-05-08 11:43:52,302 - INFO - Using included version of MDmodule.\n",
      "2024-05-08 11:43:52,303 - WARNING - MEME not found. To include it you will have to install it.\n",
      "2024-05-08 11:43:52,304 - WARNING - MEMEW not found. To include it you will have to install it.\n",
      "2024-05-08 11:43:52,304 - INFO - Using included version of MotifSampler.\n",
      "2024-05-08 11:43:52,305 - INFO - Using included version of Posmo.\n",
      "2024-05-08 11:43:52,306 - WARNING - ProSampler not found. To include it you will have to install it.\n",
      "2024-05-08 11:43:52,308 - WARNING - RPMCMC not found. To include it you will have to install it.\n",
      "2024-05-08 11:43:52,309 - WARNING - Trawler not found. To include it you will have to install it.\n",
      "2024-05-08 11:43:52,310 - WARNING - Weeder not found. To include it you will have to install it.\n",
      "2024-05-08 11:43:52,311 - WARNING - XXmotif not found. To include it you will have to install it.\n",
      "2024-05-08 11:43:52,312 - WARNING - Yamda not found. To include it you will have to install it.\n",
      "2024-05-08 11:43:52,316 - INFO - Configuration file: /home/msai/riemerpi001/.config/gimmemotifs/gimmemotifs.cfg\n"
     ]
    },
    {
     "data": {
      "text/plain": [
       "'0.18.0'"
      ]
     },
     "execution_count": 1,
     "metadata": {},
     "output_type": "execute_result"
    }
   ],
   "source": [
    "import os\n",
    "import sys\n",
    "\n",
    "import matplotlib.pyplot as plt\n",
    "import numpy as np\n",
    "import pandas as pd\n",
    "import scanpy as sc\n",
    "import seaborn as sns\n",
    "import celloracle as co\n",
    "co.__version__"
   ]
  },
  {
   "cell_type": "code",
   "execution_count": 2,
   "metadata": {},
   "outputs": [],
   "source": [
    "# visualization settings\n",
    "%config InlineBackend.figure_format = 'retina'\n",
    "%matplotlib inline\n",
    "\n",
    "plt.rcParams['figure.figsize'] = [6, 4.5]\n",
    "plt.rcParams[\"savefig.dpi\"] = 300\n",
    "save_folder = \"figures\"\n",
    "os.makedirs(save_folder, exist_ok=True)"
   ]
  },
  {
   "cell_type": "code",
   "execution_count": 3,
   "metadata": {},
   "outputs": [
    {
     "name": "stdout",
     "output_type": "stream",
     "text": [
      "Data not found in the local folder. Loading data from github. Data will be saved at /home/msai/riemerpi001/celloracle_data/anndata\n"
     ]
    },
    {
     "data": {
      "application/vnd.jupyter.widget-view+json": {
       "model_id": "c2ce294a66d942ad9d6ff34b0b1a983f",
       "version_major": 2,
       "version_minor": 0
      },
      "text/plain": [
       "  0%|          | 0.00/63.2M [00:00<?, ?B/s]"
      ]
     },
     "metadata": {},
     "output_type": "display_data"
    },
    {
     "data": {
      "text/plain": [
       "AnnData object with n_obs × n_vars = 2671 × 1999\n",
       "    obs: 'paul15_clusters', 'n_counts_all', 'n_counts', 'louvain', 'cell_type', 'louvain_annot', 'dpt_pseudotime'\n",
       "    var: 'n_counts'\n",
       "    uns: 'cell_type_colors', 'diffmap_evals', 'draw_graph', 'iroot', 'louvain', 'louvain_annot_colors', 'louvain_colors', 'louvain_sizes', 'neighbors', 'paga', 'paul15_clusters_colors', 'pca'\n",
       "    obsm: 'X_diffmap', 'X_draw_graph_fa', 'X_pca'\n",
       "    varm: 'PCs'\n",
       "    layers: 'raw_count'\n",
       "    obsp: 'connectivities', 'distances'"
      ]
     },
     "execution_count": 3,
     "metadata": {},
     "output_type": "execute_result"
    }
   ],
   "source": [
    "# Here, we will use a hematopoiesis data by Paul 2015.\n",
    "# You can load preprocessed data using a celloracle function as follows.\n",
    "adata = co.data.load_Paul2015_data()\n",
    "adata\n",
    "\n",
    "# Attention: Replace the data path below when using your data.\n",
    "# adata = sc.read_h5ad(\"DATAPATH\")"
   ]
  },
  {
   "cell_type": "code",
   "execution_count": null,
   "metadata": {},
   "outputs": [],
   "source": [
    "print(f\"Cell number is :{adata.shape[0]}\")\n",
    "print(f\"Gene number is :{adata.shape[1]}\")\n",
    "\n",
    "# Random downsampling into 30K cells if the anndata object include more than 30 K cells.\n",
    "n_cells_downsample = 30000\n",
    "if adata.shape[0] > n_cells_downsample:\n",
    "    # Let's dowmsample into 30K cells\n",
    "    sc.pp.subsample(adata, n_obs=n_cells_downsample, random_state=123)\n",
    "    \n",
    "print(f\"Cell number is :{adata.shape[0]}\")\n"
   ]
  },
  {
   "cell_type": "markdown",
   "metadata": {},
   "source": [
    "make an oracle object (from anndata)"
   ]
  },
  {
   "cell_type": "code",
   "execution_count": null,
   "metadata": {},
   "outputs": [],
   "source": [
    "oracle = co.Oracle()\n",
    "# In this notebook, we use the unscaled mRNA count for the nput of Oracle object.\n",
    "adata.X = adata.layers[\"raw_count\"].copy()\n",
    "\n",
    "# Instantiate Oracle object.\n",
    "oracle.import_anndata_as_raw_count(adata=adata,\n",
    "                                   cluster_column_name=\"louvain_annot\",\n",
    "                                   embedding_name=\"X_draw_graph_fa\")"
   ]
  },
  {
   "cell_type": "markdown",
   "metadata": {},
   "source": [
    "manually add TF-target gene pair data. <- is htis something that I need to get more off? "
   ]
  },
  {
   "cell_type": "code",
   "execution_count": null,
   "metadata": {},
   "outputs": [],
   "source": [
    "!wget https://raw.githubusercontent.com/morris-lab/CellOracle/master/docs/demo_data/TF_data_in_Paul15.csv -O TF_data_in_Paul15.csv\n",
    "Paul_15_data = pd.read_csv(\"TF_data_in_Paul15.csv\")\n",
    "Paul_15_data"
   ]
  },
  {
   "cell_type": "markdown",
   "metadata": {},
   "source": [
    "make into python dict"
   ]
  },
  {
   "cell_type": "code",
   "execution_count": null,
   "metadata": {},
   "outputs": [],
   "source": [
    "# Make dictionary: dictionary key is TF and dictionary value is list of target genes.\n",
    "TF_to_TG_dictionary = {}\n",
    "\n",
    "for TF, TGs in zip(Paul_15_data.TF, Paul_15_data.Target_genes):\n",
    "    # convert target gene to list\n",
    "    TG_list = TGs.replace(\" \", \"\").split(\",\")\n",
    "    # store target gene list in a dictionary\n",
    "    TF_to_TG_dictionary[TF] = TG_list\n",
    "\n",
    "# We invert the dictionary above using a utility function in celloracle.\n",
    "TG_to_TF_dictionary = co.utility.inverse_dictionary(TF_to_TG_dictionary)"
   ]
  },
  {
   "cell_type": "code",
   "execution_count": null,
   "metadata": {},
   "outputs": [],
   "source": [
    "oracle.addTFinfo_dictionary(TG_to_TF_dictionary)"
   ]
  }
 ],
 "metadata": {
  "kernelspec": {
   "display_name": "my_cell_env",
   "language": "python",
   "name": "python3"
  },
  "language_info": {
   "codemirror_mode": {
    "name": "ipython",
    "version": 3
   },
   "file_extension": ".py",
   "mimetype": "text/x-python",
   "name": "python",
   "nbconvert_exporter": "python",
   "pygments_lexer": "ipython3",
   "version": "3.8.18"
  }
 },
 "nbformat": 4,
 "nbformat_minor": 2
}
