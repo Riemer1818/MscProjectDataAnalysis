{
 "cells": [
  {
   "cell_type": "code",
   "execution_count": 17,
   "metadata": {},
   "outputs": [
    {
     "name": "stdout",
     "output_type": "stream",
     "text": [
      "Requirement already satisfied: anndata in /home/msai/riemerpi001/.conda/envs/my_cell_env/lib/python3.8/site-packages (0.9.1)\n",
      "Requirement already satisfied: pandas>=1.1.1 in /home/msai/riemerpi001/.conda/envs/my_cell_env/lib/python3.8/site-packages (from anndata) (2.0.3)\n",
      "Requirement already satisfied: numpy>=1.16.5 in /home/msai/riemerpi001/.conda/envs/my_cell_env/lib/python3.8/site-packages (from anndata) (1.24.4)\n",
      "Requirement already satisfied: scipy>1.4 in /home/msai/riemerpi001/.conda/envs/my_cell_env/lib/python3.8/site-packages (from anndata) (1.10.1)\n",
      "Requirement already satisfied: h5py>=3 in /home/msai/riemerpi001/.conda/envs/my_cell_env/lib/python3.8/site-packages (from anndata) (3.10.0)\n",
      "Requirement already satisfied: natsort in /home/msai/riemerpi001/.conda/envs/my_cell_env/lib/python3.8/site-packages (from anndata) (8.4.0)\n",
      "Requirement already satisfied: packaging>=20 in /home/msai/riemerpi001/.conda/envs/my_cell_env/lib/python3.8/site-packages (from anndata) (23.2)\n",
      "Requirement already satisfied: python-dateutil>=2.8.2 in /home/msai/riemerpi001/.conda/envs/my_cell_env/lib/python3.8/site-packages (from pandas>=1.1.1->anndata) (2.8.2)\n",
      "Requirement already satisfied: pytz>=2020.1 in /home/msai/riemerpi001/.conda/envs/my_cell_env/lib/python3.8/site-packages (from pandas>=1.1.1->anndata) (2024.1)\n",
      "Requirement already satisfied: tzdata>=2022.1 in /home/msai/riemerpi001/.conda/envs/my_cell_env/lib/python3.8/site-packages (from pandas>=1.1.1->anndata) (2024.1)\n",
      "Requirement already satisfied: six>=1.5 in /home/msai/riemerpi001/.conda/envs/my_cell_env/lib/python3.8/site-packages (from python-dateutil>=2.8.2->pandas>=1.1.1->anndata) (1.16.0)\n"
     ]
    }
   ],
   "source": [
    "# !pip install cellrank\n",
    "# !pip install scanpy\n",
    "# !pip install scipy\n",
    "# !pip install anndata\n",
    "\n",
    "# rest this dataset for now. "
   ]
  },
  {
   "cell_type": "code",
   "execution_count": 1,
   "metadata": {
    "vscode": {
     "languageId": "shellscript"
    }
   },
   "outputs": [
    {
     "name": "stdout",
     "output_type": "stream",
     "text": [
      "Downloading dataset from https://www.ncbi.nlm.nih.gov/geo/download/?acc=GSE213156&format=file&file=GSE213156%5FTF%5Fgene%5Fexpression%2Ecsv%2Egz\n",
      "The file ./data/GSE213156_TF_gene_expression.csv.gz already exists. Skipping download.\n",
      "File ./data/GSE213156_TF_gene_expression.csv already exists. Skipping.\n"
     ]
    }
   ],
   "source": [
    "%%bash\n",
    "\n",
    "source downloadData.sh\n",
    "\n",
    "# !mkdir -p ./data\n",
    "# minimal TF combinations for inducing granulosa-like cells\n",
    "download_dataset \"https://www.ncbi.nlm.nih.gov/geo/download/?acc=GSE213156&format=file&file=GSE213156%5FTF%5Fgene%5Fexpression%2Ecsv%2Egz\" \"./data\"  \"GSE213156_TF_gene_expression.csv.gz\"\n",
    "gunzip_download \"./data/GSE213156_TF_gene_expression.csv.gz\""
   ]
  },
  {
   "cell_type": "code",
   "execution_count": 2,
   "metadata": {},
   "outputs": [],
   "source": [
    "import cellrank as  cr\n",
    "import scanpy as sc\n",
    "from scipy import sparse\n",
    "import pandas as pd\n",
    "import numpy as np\n",
    "from anndata import AnnData"
   ]
  },
  {
   "cell_type": "markdown",
   "metadata": {},
   "source": [
    " Transcript abundance (TPM) measurements for induced pluripotent stem cells (iPSCs), COV434 ovarian cancer cells, and iPSC-derived granulosa-like cells. 2. Differential gene expression analysis to identify effects of transcription factor overexpression during iPSC differentiation."
   ]
  },
  {
   "cell_type": "code",
   "execution_count": 1,
   "metadata": {},
   "outputs": [
    {
     "ename": "NameError",
     "evalue": "name 'pd' is not defined",
     "output_type": "error",
     "traceback": [
      "\u001b[0;31m---------------------------------------------------------------------------\u001b[0m",
      "\u001b[0;31mNameError\u001b[0m                                 Traceback (most recent call last)",
      "Cell \u001b[0;32mIn[1], line 2\u001b[0m\n\u001b[1;32m      1\u001b[0m \u001b[38;5;66;03m# Load h5ad file\u001b[39;00m\n\u001b[0;32m----> 2\u001b[0m df \u001b[38;5;241m=\u001b[39m \u001b[43mpd\u001b[49m\u001b[38;5;241m.\u001b[39mread_csv(\u001b[38;5;124m'\u001b[39m\u001b[38;5;124mdata/GSE213156_TF_gene_expression.csv\u001b[39m\u001b[38;5;124m'\u001b[39m)\n\u001b[1;32m      4\u001b[0m [\u001b[38;5;124m'\u001b[39m\u001b[38;5;124mGene name\u001b[39m\u001b[38;5;124m'\u001b[39m, \u001b[38;5;124m'\u001b[39m\u001b[38;5;124mGene stable ID version\u001b[39m\u001b[38;5;124m'\u001b[39m, \u001b[38;5;124m'\u001b[39m\u001b[38;5;124mbaseMean\u001b[39m\u001b[38;5;124m'\u001b[39m, \u001b[38;5;124m'\u001b[39m\u001b[38;5;124mlog2FoldChange_WT1\u001b[39m\u001b[38;5;124m'\u001b[39m,\n\u001b[1;32m      5\u001b[0m \u001b[38;5;124m'\u001b[39m\u001b[38;5;124mpadj_WT1\u001b[39m\u001b[38;5;124m'\u001b[39m, \u001b[38;5;124m'\u001b[39m\u001b[38;5;124mlog2FoldChange_GATA4\u001b[39m\u001b[38;5;124m'\u001b[39m, \u001b[38;5;124m'\u001b[39m\u001b[38;5;124mpadj_GATA4\u001b[39m\u001b[38;5;124m'\u001b[39m,\n\u001b[1;32m      6\u001b[0m \u001b[38;5;124m'\u001b[39m\u001b[38;5;124mlog2FoldChange_NR5A1\u001b[39m\u001b[38;5;124m'\u001b[39m, \u001b[38;5;124m'\u001b[39m\u001b[38;5;124mpadj_NR5A1\u001b[39m\u001b[38;5;124m'\u001b[39m, \u001b[38;5;124m'\u001b[39m\u001b[38;5;124mlog2FoldChange_RUNX1\u001b[39m\u001b[38;5;124m'\u001b[39m,\n\u001b[0;32m   (...)\u001b[0m\n\u001b[1;32m      9\u001b[0m \u001b[38;5;124m'\u001b[39m\u001b[38;5;124mpadj_COV434\u001b[39m\u001b[38;5;124m'\u001b[39m, \u001b[38;5;124m'\u001b[39m\u001b[38;5;124mlog2FoldChange_FOXL2_plus\u001b[39m\u001b[38;5;124m'\u001b[39m, \u001b[38;5;124m'\u001b[39m\u001b[38;5;124mpadj_FOXL2_plus\u001b[39m\u001b[38;5;124m'\u001b[39m,\n\u001b[1;32m     10\u001b[0m \u001b[38;5;124m'\u001b[39m\u001b[38;5;124mlog2FoldChange_NOTFS\u001b[39m\u001b[38;5;124m'\u001b[39m, \u001b[38;5;124m'\u001b[39m\u001b[38;5;124mpadj_NOTFS\u001b[39m\u001b[38;5;124m'\u001b[39m]\n\u001b[1;32m     12\u001b[0m \u001b[38;5;66;03m# the nine TFs are:\u001b[39;00m\n\u001b[1;32m     13\u001b[0m     \u001b[38;5;66;03m# WT1\u001b[39;00m\n\u001b[1;32m     14\u001b[0m     \u001b[38;5;66;03m# GATA4\u001b[39;00m\n\u001b[0;32m   (...)\u001b[0m\n\u001b[1;32m     24\u001b[0m \n\u001b[1;32m     25\u001b[0m \u001b[38;5;66;03m# Create anndata object\u001b[39;00m\n",
      "\u001b[0;31mNameError\u001b[0m: name 'pd' is not defined"
     ]
    }
   ],
   "source": [
    "\n",
    "# Load h5ad file\n",
    "df = pd.read_csv('data/GSE213156_TF_gene_expression.csv')\n",
    "\n",
    "['Gene name', 'Gene stable ID version', 'baseMean', 'log2FoldChange_WT1',\n",
    "'padj_WT1', 'log2FoldChange_GATA4', 'padj_GATA4',\n",
    "'log2FoldChange_NR5A1', 'padj_NR5A1', 'log2FoldChange_RUNX1',\n",
    "'padj_RUNX1', 'log2FoldChange_FOXL2', 'padj_FOXL2',\n",
    "'log2FoldChange_TCF21', 'padj_TCF21', 'log2FoldChange_COV434',\n",
    "'padj_COV434', 'log2FoldChange_FOXL2_plus', 'padj_FOXL2_plus',\n",
    "'log2FoldChange_NOTFS', 'padj_NOTFS']\n",
    "\n",
    "# the nine TFs are:\n",
    "    # WT1\n",
    "    # GATA4\n",
    "    # NR5A1\n",
    "    # RUNX1\n",
    "    # FOXL2\n",
    "    # TCF21\n",
    "    # COV434\n",
    "    # FOXL2_plus\n",
    "    # NOTFS\n",
    "\n",
    "# though according to the paper there should be like 20 odd \n",
    "\n",
    "# Create anndata object\n",
    "adata = AnnData(X=df.values, obs=pd.DataFrame(index=df.index), var=pd.DataFrame(index=df.columns))\n",
    "\n",
    "print(adata.obs.head())\n",
    "print(adata.var.head())\n",
    "\n",
    "# this data is just the abundance of the log2fold change of the TFs. Does not have transcription information? \n"
   ]
  },
  {
   "cell_type": "markdown",
   "metadata": {},
   "source": [
    "Here we make both of the anndata objects sparse and change some of the obsm keys. Then we save the new anndata object to h5ad files."
   ]
  }
 ],
 "metadata": {
  "kernelspec": {
   "display_name": "Python 3",
   "language": "python",
   "name": "python3"
  },
  "language_info": {
   "codemirror_mode": {
    "name": "ipython",
    "version": 3
   },
   "file_extension": ".py",
   "mimetype": "text/x-python",
   "name": "python",
   "nbconvert_exporter": "python",
   "pygments_lexer": "ipython3",
   "version": "3.8.18"
  }
 },
 "nbformat": 4,
 "nbformat_minor": 2
}
